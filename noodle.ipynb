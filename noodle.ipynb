{
 "cells": [
  {
   "cell_type": "markdown",
   "metadata": {},
   "source": [
    "# Merge Noodle"
   ]
  },
  {
   "cell_type": "code",
   "execution_count": 1,
   "metadata": {},
   "outputs": [],
   "source": [
    "import pandas as pd\n",
    "from merge import merge_on_intervals, AST\n",
    "from util.signed_overlap import overlap\n",
    "from dtimsprep import merge"
   ]
  },
  {
   "cell_type": "code",
   "execution_count": 2,
   "metadata": {},
   "outputs": [],
   "source": [
    "left = pd.DataFrame(\n",
    "    columns=[\"road\", \"cwy\", \"slk_from\", \"slk_to\", \"left_measure\",\"left_category\"],\n",
    "    data=[\n",
    "        [\"H001\", \"L\",   0, 100, 55, \"b\"],\n",
    "        [\"H001\", \"L\", 100, 200, 57, \"a\"],\n",
    "        [\"H001\", \"L\", 200, 300, 25, \"b\"],\n",
    "        [\"H001\", \"L\", 300, 400, 94, \"e\"],\n",
    "        [\"H001\", \"L\", 500, 550, 94, \"f\"],\n",
    "\n",
    "        [\"H002\", \"L\", 100, 200, 34, \"g\"],\n",
    "        [\"H002\", \"L\", 200, 300, 35, \"h\"],\n",
    "    ]\n",
    ")\n",
    "\n",
    "right = pd.DataFrame(\n",
    "    columns=[\"road\", \"cwy\", \"slk_from\", \"slk_to\", \"right_measure\", \"right_category\"],\n",
    "    data=[\n",
    "        [\"H001\", \"L\",  50, 140, 1.0, \"A\"],  # 50  40   0  0\n",
    "        [\"H001\", \"L\", 140, 160, 2.0, \"B\"],  # 0  20   0  0\n",
    "        [\"H001\", \"L\", 160, 180, 3.0, \"B\"],  # 0  20   0  0\n",
    "        [\"H001\", \"L\", 180, 220, 4.0, \"B\"],  # 0  20  20  0\n",
    "        [\"H001\", \"L\", 220, 240, 5.0, \"C\"],  # 0   0  20  0\n",
    "        [\"H001\", \"L\", 240, 260, 5.0, \"C\"],  # 0   0  20  0\n",
    "        [\"H001\", \"L\", 260, 280, 6.0, \"D\"],  # 0   0  20  0\n",
    "        [\"H001\", \"L\", 280, 300, 7.0, \"E\"],  # 0   0  20  0\n",
    "        [\"H001\", \"L\", 300, 320, 8.0, \"F\"],  # 0   0     20\n",
    "\n",
    "        [\"H002\", \"L\", 260, 280, 6.0, \"D\"],  # 0   0  20  0\n",
    "        [\"H002\", \"L\", 280, 300, 7.0, \"E\"],  # 0   0  20  0\n",
    "        [\"H002\", \"L\", 300, 320, 8.0, \"F\"],  # 0   0     20\n",
    "    ]\n",
    ")\n",
    "\n",
    "expected_output = pd.DataFrame(\n",
    "    columns=[\"road\", \"cwy\", \"slk_from\", \"slk_to\", \"measure longest segment\", \"measure longest value\", \"category longest segment\", \"category longest value\"],\n",
    "    data=[\n",
    "        [\"H001\", \"L\", 0, 100, 1.0, 1.0, \"A\", \"A\"],\n",
    "        [\"H001\", \"L\", 100, 200, 1.0, 1.0, \"A\", \"B\"],\n",
    "        [\"H001\", \"L\", 200, 300, 4.0, 5.0, \"B\", \"C\"],\n",
    "        [\"H001\", \"L\", 300, 400, 8.0, 8.0, \"F\", \"F\"],\n",
    "    ]\n",
    ")"
   ]
  },
  {
   "cell_type": "code",
   "execution_count": 3,
   "metadata": {},
   "outputs": [
    {
     "name": "stderr",
     "output_type": "stream",
     "text": [
      "C:\\Users\\e81005\\AppData\\Local\\Temp\\ipykernel_2324\\656872592.py:10: DeprecationWarning: Call to deprecated function (or staticmethod) KeepLongestSegment. (`merge.Aggregation.KeepLongestSegment()` is an old, incorrect implementation. Please use `merge.Aggregation.KeepLongest()`) -- Deprecated since version 0.1.0.\n",
      "  merge.Action(\"right_measure\", rename=\"longest overlapping segment\", aggregation=merge.Aggregation.KeepLongestSegment()),\n"
     ]
    },
    {
     "data": {
      "text/html": [
       "<div>\n",
       "<style scoped>\n",
       "    .dataframe tbody tr th:only-of-type {\n",
       "        vertical-align: middle;\n",
       "    }\n",
       "\n",
       "    .dataframe tbody tr th {\n",
       "        vertical-align: top;\n",
       "    }\n",
       "\n",
       "    .dataframe thead th {\n",
       "        text-align: right;\n",
       "    }\n",
       "</style>\n",
       "<table border=\"1\" class=\"dataframe\">\n",
       "  <thead>\n",
       "    <tr style=\"text-align: right;\">\n",
       "      <th></th>\n",
       "      <th>road</th>\n",
       "      <th>cwy</th>\n",
       "      <th>slk_from</th>\n",
       "      <th>slk_to</th>\n",
       "      <th>left_measure</th>\n",
       "      <th>left_category</th>\n",
       "      <th>sum</th>\n",
       "      <th>sum - overlapping portion</th>\n",
       "      <th>length weighted average</th>\n",
       "      <th>longest overlapping segment</th>\n",
       "      <th>longest value</th>\n",
       "      <th>length weighted 75th percentile</th>\n",
       "    </tr>\n",
       "  </thead>\n",
       "  <tbody>\n",
       "    <tr>\n",
       "      <th>0</th>\n",
       "      <td>H001</td>\n",
       "      <td>L</td>\n",
       "      <td>0</td>\n",
       "      <td>100</td>\n",
       "      <td>55</td>\n",
       "      <td>b</td>\n",
       "      <td>1.0</td>\n",
       "      <td>0.555556</td>\n",
       "      <td>1.0</td>\n",
       "      <td>1.0</td>\n",
       "      <td>1.0</td>\n",
       "      <td>1.000</td>\n",
       "    </tr>\n",
       "    <tr>\n",
       "      <th>1</th>\n",
       "      <td>H001</td>\n",
       "      <td>L</td>\n",
       "      <td>100</td>\n",
       "      <td>200</td>\n",
       "      <td>57</td>\n",
       "      <td>a</td>\n",
       "      <td>10.0</td>\n",
       "      <td>7.444444</td>\n",
       "      <td>2.2</td>\n",
       "      <td>1.0</td>\n",
       "      <td>1.0</td>\n",
       "      <td>3.125</td>\n",
       "    </tr>\n",
       "    <tr>\n",
       "      <th>2</th>\n",
       "      <td>H001</td>\n",
       "      <td>L</td>\n",
       "      <td>200</td>\n",
       "      <td>300</td>\n",
       "      <td>25</td>\n",
       "      <td>b</td>\n",
       "      <td>27.0</td>\n",
       "      <td>25.000000</td>\n",
       "      <td>5.4</td>\n",
       "      <td>4.0</td>\n",
       "      <td>5.0</td>\n",
       "      <td>6.000</td>\n",
       "    </tr>\n",
       "    <tr>\n",
       "      <th>3</th>\n",
       "      <td>H001</td>\n",
       "      <td>L</td>\n",
       "      <td>300</td>\n",
       "      <td>400</td>\n",
       "      <td>94</td>\n",
       "      <td>e</td>\n",
       "      <td>8.0</td>\n",
       "      <td>8.000000</td>\n",
       "      <td>8.0</td>\n",
       "      <td>8.0</td>\n",
       "      <td>8.0</td>\n",
       "      <td>8.000</td>\n",
       "    </tr>\n",
       "    <tr>\n",
       "      <th>4</th>\n",
       "      <td>H001</td>\n",
       "      <td>L</td>\n",
       "      <td>500</td>\n",
       "      <td>550</td>\n",
       "      <td>94</td>\n",
       "      <td>f</td>\n",
       "      <td>NaN</td>\n",
       "      <td>NaN</td>\n",
       "      <td>NaN</td>\n",
       "      <td>NaN</td>\n",
       "      <td>NaN</td>\n",
       "      <td>NaN</td>\n",
       "    </tr>\n",
       "    <tr>\n",
       "      <th>5</th>\n",
       "      <td>H002</td>\n",
       "      <td>L</td>\n",
       "      <td>100</td>\n",
       "      <td>200</td>\n",
       "      <td>34</td>\n",
       "      <td>g</td>\n",
       "      <td>NaN</td>\n",
       "      <td>NaN</td>\n",
       "      <td>NaN</td>\n",
       "      <td>NaN</td>\n",
       "      <td>NaN</td>\n",
       "      <td>NaN</td>\n",
       "    </tr>\n",
       "    <tr>\n",
       "      <th>6</th>\n",
       "      <td>H002</td>\n",
       "      <td>L</td>\n",
       "      <td>200</td>\n",
       "      <td>300</td>\n",
       "      <td>35</td>\n",
       "      <td>h</td>\n",
       "      <td>13.0</td>\n",
       "      <td>13.000000</td>\n",
       "      <td>6.5</td>\n",
       "      <td>6.0</td>\n",
       "      <td>6.0</td>\n",
       "      <td>6.750</td>\n",
       "    </tr>\n",
       "  </tbody>\n",
       "</table>\n",
       "</div>"
      ],
      "text/plain": [
       "   road cwy  slk_from  slk_to  left_measure left_category   sum  \\\n",
       "0  H001   L         0     100            55             b   1.0   \n",
       "1  H001   L       100     200            57             a  10.0   \n",
       "2  H001   L       200     300            25             b  27.0   \n",
       "3  H001   L       300     400            94             e   8.0   \n",
       "4  H001   L       500     550            94             f   NaN   \n",
       "5  H002   L       100     200            34             g   NaN   \n",
       "6  H002   L       200     300            35             h  13.0   \n",
       "\n",
       "   sum - overlapping portion  length weighted average  \\\n",
       "0                   0.555556                      1.0   \n",
       "1                   7.444444                      2.2   \n",
       "2                  25.000000                      5.4   \n",
       "3                   8.000000                      8.0   \n",
       "4                        NaN                      NaN   \n",
       "5                        NaN                      NaN   \n",
       "6                  13.000000                      6.5   \n",
       "\n",
       "   longest overlapping segment  longest value  length weighted 75th percentile  \n",
       "0                          1.0            1.0                            1.000  \n",
       "1                          1.0            1.0                            3.125  \n",
       "2                          4.0            5.0                            6.000  \n",
       "3                          8.0            8.0                            8.000  \n",
       "4                          NaN            NaN                              NaN  \n",
       "5                          NaN            NaN                              NaN  \n",
       "6                          6.0            6.0                            6.750  "
      ]
     },
     "execution_count": 3,
     "metadata": {},
     "output_type": "execute_result"
    }
   ],
   "source": [
    "merge.on_slk_intervals(\n",
    "    target       = left,\n",
    "    data         = right,\n",
    "    join_left = [\"road\",\"cwy\"],\n",
    "    from_to      = (\"slk_from\",\"slk_to\"),\n",
    "    column_actions=[\n",
    "        merge.Action(\"right_measure\", rename=\"sum\",                         aggregation=merge.Aggregation.Sum()),\n",
    "        merge.Action(\"right_measure\", rename=\"sum - overlapping portion\",   aggregation=merge.Aggregation.SumProportionOfData()),\n",
    "        merge.Action(\"right_measure\", rename=\"length weighted average\",     aggregation=merge.Aggregation.LengthWeightedAverage()),\n",
    "        merge.Action(\"right_measure\", rename=\"longest overlapping segment\", aggregation=merge.Aggregation.KeepLongestSegment()),\n",
    "        merge.Action(\"right_measure\", rename=\"longest value\",               aggregation=merge.Aggregation.KeepLongest()),\n",
    "        merge.Action(\"right_measure\", rename=\"length weighted 75th percentile\",  aggregation=merge.Aggregation.LengthWeightedPercentile(0.75))\n",
    "\n",
    "    ]\n",
    ")"
   ]
  },
  {
   "cell_type": "code",
   "execution_count": 4,
   "metadata": {},
   "outputs": [
    {
     "ename": "TypeError",
     "evalue": "'tuple' object does not support item assignment",
     "output_type": "error",
     "traceback": [
      "\u001b[1;31m---------------------------------------------------------------------------\u001b[0m",
      "\u001b[1;31mTypeError\u001b[0m                                 Traceback (most recent call last)",
      "\u001b[1;32ml:\\GIT\\merge_with_deferred\\noodle.ipynb Cell 5\u001b[0m in \u001b[0;36m<cell line: 1>\u001b[1;34m()\u001b[0m\n\u001b[1;32m----> <a href='vscode-notebook-cell:/l%3A/GIT/merge_with_deferred/noodle.ipynb#W4sZmlsZQ%3D%3D?line=0'>1</a>\u001b[0m result \u001b[39m=\u001b[39m merge_on_intervals(\n\u001b[0;32m      <a href='vscode-notebook-cell:/l%3A/GIT/merge_with_deferred/noodle.ipynb#W4sZmlsZQ%3D%3D?line=1'>2</a>\u001b[0m     left_data  \u001b[39m=\u001b[39;49m left,\n\u001b[0;32m      <a href='vscode-notebook-cell:/l%3A/GIT/merge_with_deferred/noodle.ipynb#W4sZmlsZQ%3D%3D?line=2'>3</a>\u001b[0m     right_data \u001b[39m=\u001b[39;49m right,\n\u001b[0;32m      <a href='vscode-notebook-cell:/l%3A/GIT/merge_with_deferred/noodle.ipynb#W4sZmlsZQ%3D%3D?line=3'>4</a>\u001b[0m     join_left_on\u001b[39m=\u001b[39;49m[\u001b[39m\"\u001b[39;49m\u001b[39mroad\u001b[39;49m\u001b[39m\"\u001b[39;49m,\u001b[39m\"\u001b[39;49m\u001b[39mcwy\u001b[39;49m\u001b[39m\"\u001b[39;49m],\n\u001b[0;32m      <a href='vscode-notebook-cell:/l%3A/GIT/merge_with_deferred/noodle.ipynb#W4sZmlsZQ%3D%3D?line=4'>5</a>\u001b[0m     from_to\u001b[39m=\u001b[39;49m(\u001b[39m\"\u001b[39;49m\u001b[39mslk_from\u001b[39;49m\u001b[39m\"\u001b[39;49m,\u001b[39m\"\u001b[39;49m\u001b[39mslk_to\u001b[39;49m\u001b[39m\"\u001b[39;49m),\n\u001b[0;32m      <a href='vscode-notebook-cell:/l%3A/GIT/merge_with_deferred/noodle.ipynb#W4sZmlsZQ%3D%3D?line=5'>6</a>\u001b[0m     add_columns\u001b[39m=\u001b[39;49m[\n\u001b[0;32m      <a href='vscode-notebook-cell:/l%3A/GIT/merge_with_deferred/noodle.ipynb#W4sZmlsZQ%3D%3D?line=6'>7</a>\u001b[0m         \u001b[39m# SUM\u001b[39;49;00m\n\u001b[0;32m      <a href='vscode-notebook-cell:/l%3A/GIT/merge_with_deferred/noodle.ipynb#W4sZmlsZQ%3D%3D?line=7'>8</a>\u001b[0m         AST\u001b[39m.\u001b[39;49mright_column(\u001b[39m\"\u001b[39;49m\u001b[39mright_measure\u001b[39;49m\u001b[39m\"\u001b[39;49m)\u001b[39m.\u001b[39;49mfilter(AST\u001b[39m.\u001b[39;49mlength_of_overlap()\u001b[39m>\u001b[39;49m\u001b[39m0\u001b[39;49m)\u001b[39m.\u001b[39;49msum()\n\u001b[0;32m      <a href='vscode-notebook-cell:/l%3A/GIT/merge_with_deferred/noodle.ipynb#W4sZmlsZQ%3D%3D?line=8'>9</a>\u001b[0m         \u001b[39m.\u001b[39;49malias(\u001b[39m\"\u001b[39;49m\u001b[39msum\u001b[39;49m\u001b[39m\"\u001b[39;49m),\n\u001b[0;32m     <a href='vscode-notebook-cell:/l%3A/GIT/merge_with_deferred/noodle.ipynb#W4sZmlsZQ%3D%3D?line=9'>10</a>\u001b[0m \n\u001b[0;32m     <a href='vscode-notebook-cell:/l%3A/GIT/merge_with_deferred/noodle.ipynb#W4sZmlsZQ%3D%3D?line=10'>11</a>\u001b[0m         \u001b[39m# SUM - OVERLAPPING PORTION\u001b[39;49;00m\n\u001b[0;32m     <a href='vscode-notebook-cell:/l%3A/GIT/merge_with_deferred/noodle.ipynb#W4sZmlsZQ%3D%3D?line=11'>12</a>\u001b[0m         (AST\u001b[39m.\u001b[39;49mright_column(\u001b[39m\"\u001b[39;49m\u001b[39mright_measure\u001b[39;49m\u001b[39m\"\u001b[39;49m)\u001b[39m/\u001b[39;49mAST\u001b[39m.\u001b[39;49mlength_of_right()\u001b[39m*\u001b[39;49mAST\u001b[39m.\u001b[39;49mlength_of_overlap())\u001b[39m.\u001b[39;49mfilter(AST\u001b[39m.\u001b[39;49mlength_of_overlap()\u001b[39m>\u001b[39;49m\u001b[39m0\u001b[39;49m)\u001b[39m.\u001b[39;49msum()\n\u001b[0;32m     <a href='vscode-notebook-cell:/l%3A/GIT/merge_with_deferred/noodle.ipynb#W4sZmlsZQ%3D%3D?line=12'>13</a>\u001b[0m         \u001b[39m.\u001b[39;49malias(\u001b[39m\"\u001b[39;49m\u001b[39msum - overlapping portion\u001b[39;49m\u001b[39m\"\u001b[39;49m),\n\u001b[0;32m     <a href='vscode-notebook-cell:/l%3A/GIT/merge_with_deferred/noodle.ipynb#W4sZmlsZQ%3D%3D?line=13'>14</a>\u001b[0m \n\u001b[0;32m     <a href='vscode-notebook-cell:/l%3A/GIT/merge_with_deferred/noodle.ipynb#W4sZmlsZQ%3D%3D?line=14'>15</a>\u001b[0m         \u001b[39m# LENGTH WEIGHTED AVERAGE\u001b[39;49;00m\n\u001b[0;32m     <a href='vscode-notebook-cell:/l%3A/GIT/merge_with_deferred/noodle.ipynb#W4sZmlsZQ%3D%3D?line=15'>16</a>\u001b[0m         (\n\u001b[0;32m     <a href='vscode-notebook-cell:/l%3A/GIT/merge_with_deferred/noodle.ipynb#W4sZmlsZQ%3D%3D?line=16'>17</a>\u001b[0m             (AST\u001b[39m.\u001b[39;49mright_column(\u001b[39m\"\u001b[39;49m\u001b[39mright_measure\u001b[39;49m\u001b[39m\"\u001b[39;49m)\u001b[39m.\u001b[39;49mfilter(AST\u001b[39m.\u001b[39;49mlength_of_overlap()\u001b[39m>\u001b[39;49m\u001b[39m0\u001b[39;49m) \u001b[39m*\u001b[39;49m AST\u001b[39m.\u001b[39;49mlength_of_overlap())\u001b[39m.\u001b[39;49msum() \n\u001b[0;32m     <a href='vscode-notebook-cell:/l%3A/GIT/merge_with_deferred/noodle.ipynb#W4sZmlsZQ%3D%3D?line=17'>18</a>\u001b[0m             \u001b[39m/\u001b[39;49m AST\u001b[39m.\u001b[39;49mlength_of_overlap()\u001b[39m.\u001b[39;49mfilter(AST\u001b[39m.\u001b[39;49mlength_of_overlap()\u001b[39m>\u001b[39;49m\u001b[39m0\u001b[39;49m)\u001b[39m.\u001b[39;49msum()\n\u001b[0;32m     <a href='vscode-notebook-cell:/l%3A/GIT/merge_with_deferred/noodle.ipynb#W4sZmlsZQ%3D%3D?line=18'>19</a>\u001b[0m         )\n\u001b[0;32m     <a href='vscode-notebook-cell:/l%3A/GIT/merge_with_deferred/noodle.ipynb#W4sZmlsZQ%3D%3D?line=19'>20</a>\u001b[0m         \u001b[39m.\u001b[39;49malias(\u001b[39m\"\u001b[39;49m\u001b[39mlength weighted average\u001b[39;49m\u001b[39m\"\u001b[39;49m),\n\u001b[0;32m     <a href='vscode-notebook-cell:/l%3A/GIT/merge_with_deferred/noodle.ipynb#W4sZmlsZQ%3D%3D?line=20'>21</a>\u001b[0m         \n\u001b[0;32m     <a href='vscode-notebook-cell:/l%3A/GIT/merge_with_deferred/noodle.ipynb#W4sZmlsZQ%3D%3D?line=21'>22</a>\u001b[0m         \u001b[39m# LONGEST OVERLAPPING SEGMENT\u001b[39;49;00m\n\u001b[0;32m     <a href='vscode-notebook-cell:/l%3A/GIT/merge_with_deferred/noodle.ipynb#W4sZmlsZQ%3D%3D?line=22'>23</a>\u001b[0m         AST\u001b[39m.\u001b[39;49mright_column(\u001b[39m\"\u001b[39;49m\u001b[39mright_measure\u001b[39;49m\u001b[39m\"\u001b[39;49m)\n\u001b[0;32m     <a href='vscode-notebook-cell:/l%3A/GIT/merge_with_deferred/noodle.ipynb#W4sZmlsZQ%3D%3D?line=23'>24</a>\u001b[0m         \u001b[39m.\u001b[39;49mat_index(\n\u001b[0;32m     <a href='vscode-notebook-cell:/l%3A/GIT/merge_with_deferred/noodle.ipynb#W4sZmlsZQ%3D%3D?line=24'>25</a>\u001b[0m             AST\u001b[39m.\u001b[39;49mlength_of_overlap()\n\u001b[0;32m     <a href='vscode-notebook-cell:/l%3A/GIT/merge_with_deferred/noodle.ipynb#W4sZmlsZQ%3D%3D?line=25'>26</a>\u001b[0m             \u001b[39m.\u001b[39;49mfilter(AST\u001b[39m.\u001b[39;49mlength_of_overlap()\u001b[39m>\u001b[39;49m\u001b[39m0\u001b[39;49m)\n\u001b[0;32m     <a href='vscode-notebook-cell:/l%3A/GIT/merge_with_deferred/noodle.ipynb#W4sZmlsZQ%3D%3D?line=26'>27</a>\u001b[0m             \u001b[39m.\u001b[39;49mindex_of_max()\n\u001b[0;32m     <a href='vscode-notebook-cell:/l%3A/GIT/merge_with_deferred/noodle.ipynb#W4sZmlsZQ%3D%3D?line=27'>28</a>\u001b[0m         )\n\u001b[0;32m     <a href='vscode-notebook-cell:/l%3A/GIT/merge_with_deferred/noodle.ipynb#W4sZmlsZQ%3D%3D?line=28'>29</a>\u001b[0m         \u001b[39m.\u001b[39;49malias(\u001b[39m\"\u001b[39;49m\u001b[39mlongest overlapping segment\u001b[39;49m\u001b[39m\"\u001b[39;49m),\n\u001b[0;32m     <a href='vscode-notebook-cell:/l%3A/GIT/merge_with_deferred/noodle.ipynb#W4sZmlsZQ%3D%3D?line=29'>30</a>\u001b[0m         \n\u001b[0;32m     <a href='vscode-notebook-cell:/l%3A/GIT/merge_with_deferred/noodle.ipynb#W4sZmlsZQ%3D%3D?line=30'>31</a>\u001b[0m         \u001b[39m# LONGEST VALUE\u001b[39;49;00m\n\u001b[0;32m     <a href='vscode-notebook-cell:/l%3A/GIT/merge_with_deferred/noodle.ipynb#W4sZmlsZQ%3D%3D?line=31'>32</a>\u001b[0m         AST\u001b[39m.\u001b[39;49mlength_of_overlap()\u001b[39m.\u001b[39;49mfilter(AST\u001b[39m.\u001b[39;49mlength_of_overlap()\u001b[39m>\u001b[39;49m\u001b[39m0\u001b[39;49m)\u001b[39m.\u001b[39;49mgroupby(AST\u001b[39m.\u001b[39;49mright_column(\u001b[39m\"\u001b[39;49m\u001b[39mright_measure\u001b[39;49m\u001b[39m\"\u001b[39;49m))\u001b[39m.\u001b[39;49msum()\u001b[39m.\u001b[39;49mindex_of_max()\n\u001b[0;32m     <a href='vscode-notebook-cell:/l%3A/GIT/merge_with_deferred/noodle.ipynb#W4sZmlsZQ%3D%3D?line=32'>33</a>\u001b[0m         \u001b[39m.\u001b[39;49malias(\u001b[39m\"\u001b[39;49m\u001b[39mlongest value\u001b[39;49m\u001b[39m\"\u001b[39;49m),\n\u001b[0;32m     <a href='vscode-notebook-cell:/l%3A/GIT/merge_with_deferred/noodle.ipynb#W4sZmlsZQ%3D%3D?line=33'>34</a>\u001b[0m \n\u001b[0;32m     <a href='vscode-notebook-cell:/l%3A/GIT/merge_with_deferred/noodle.ipynb#W4sZmlsZQ%3D%3D?line=34'>35</a>\u001b[0m         \u001b[39m# LENGTH WEIGHTED 75th PERCENTILE\u001b[39;49;00m\n\u001b[0;32m     <a href='vscode-notebook-cell:/l%3A/GIT/merge_with_deferred/noodle.ipynb#W4sZmlsZQ%3D%3D?line=35'>36</a>\u001b[0m         \u001b[39m# psudocode\u001b[39;49;00m\n\u001b[0;32m     <a href='vscode-notebook-cell:/l%3A/GIT/merge_with_deferred/noodle.ipynb#W4sZmlsZQ%3D%3D?line=36'>37</a>\u001b[0m         \u001b[39m#AST.np_interp(\u001b[39;49;00m\n\u001b[0;32m     <a href='vscode-notebook-cell:/l%3A/GIT/merge_with_deferred/noodle.ipynb#W4sZmlsZQ%3D%3D?line=37'>38</a>\u001b[0m         \u001b[39m#    0.75,\u001b[39;49;00m\n\u001b[0;32m     <a href='vscode-notebook-cell:/l%3A/GIT/merge_with_deferred/noodle.ipynb#W4sZmlsZQ%3D%3D?line=38'>39</a>\u001b[0m         \u001b[39m#    ((xcoords:=AST.length_of_overlap().sort_values(AST.right_column(\"right_measure\")).rolling(2).mean().fillna(0).cumsum()) / xcoords.iloc[-1]),\u001b[39;49;00m\n\u001b[0;32m     <a href='vscode-notebook-cell:/l%3A/GIT/merge_with_deferred/noodle.ipynb#W4sZmlsZQ%3D%3D?line=39'>40</a>\u001b[0m         \u001b[39m#    AST.right_column(\"right_measure\").sort_values(AST.right_column(\"right_measure\"))\u001b[39;49;00m\n\u001b[0;32m     <a href='vscode-notebook-cell:/l%3A/GIT/merge_with_deferred/noodle.ipynb#W4sZmlsZQ%3D%3D?line=40'>41</a>\u001b[0m         \u001b[39m#),\u001b[39;49;00m\n\u001b[0;32m     <a href='vscode-notebook-cell:/l%3A/GIT/merge_with_deferred/noodle.ipynb#W4sZmlsZQ%3D%3D?line=41'>42</a>\u001b[0m         \n\u001b[0;32m     <a href='vscode-notebook-cell:/l%3A/GIT/merge_with_deferred/noodle.ipynb#W4sZmlsZQ%3D%3D?line=42'>43</a>\u001b[0m         \u001b[39m# NEAREST VALUE,\u001b[39;49;00m\n\u001b[0;32m     <a href='vscode-notebook-cell:/l%3A/GIT/merge_with_deferred/noodle.ipynb#W4sZmlsZQ%3D%3D?line=43'>44</a>\u001b[0m         \u001b[39m# (or if there are overlapping, some random overlapping value)\u001b[39;49;00m\n\u001b[0;32m     <a href='vscode-notebook-cell:/l%3A/GIT/merge_with_deferred/noodle.ipynb#W4sZmlsZQ%3D%3D?line=44'>45</a>\u001b[0m         AST\u001b[39m.\u001b[39;49mlength_of_overlap()\u001b[39m.\u001b[39;49mgroupby(AST\u001b[39m.\u001b[39;49mright_column(\u001b[39m\"\u001b[39;49m\u001b[39mright_measure\u001b[39;49m\u001b[39m\"\u001b[39;49m))\u001b[39m.\u001b[39;49msum()\u001b[39m.\u001b[39;49mindex_of_max()\n\u001b[0;32m     <a href='vscode-notebook-cell:/l%3A/GIT/merge_with_deferred/noodle.ipynb#W4sZmlsZQ%3D%3D?line=45'>46</a>\u001b[0m         \u001b[39m.\u001b[39;49malias(\u001b[39m\"\u001b[39;49m\u001b[39mnearest\u001b[39;49m\u001b[39m\"\u001b[39;49m),\n\u001b[0;32m     <a href='vscode-notebook-cell:/l%3A/GIT/merge_with_deferred/noodle.ipynb#W4sZmlsZQ%3D%3D?line=46'>47</a>\u001b[0m \n\u001b[0;32m     <a href='vscode-notebook-cell:/l%3A/GIT/merge_with_deferred/noodle.ipynb#W4sZmlsZQ%3D%3D?line=47'>48</a>\u001b[0m         \u001b[39m# FANCY SPICY SPECIAL QUERY :O\u001b[39;49;00m\n\u001b[0;32m     <a href='vscode-notebook-cell:/l%3A/GIT/merge_with_deferred/noodle.ipynb#W4sZmlsZQ%3D%3D?line=48'>49</a>\u001b[0m         \u001b[39m# no idea why anyone would need this, but now it is possible.\u001b[39;49;00m\n\u001b[0;32m     <a href='vscode-notebook-cell:/l%3A/GIT/merge_with_deferred/noodle.ipynb#W4sZmlsZQ%3D%3D?line=49'>50</a>\u001b[0m         AST\u001b[39m.\u001b[39;49mright_column(\u001b[39m\"\u001b[39;49m\u001b[39mright_measure\u001b[39;49m\u001b[39m\"\u001b[39;49m)\u001b[39m.\u001b[39;49mfilter((AST\u001b[39m.\u001b[39;49mlength_of_overlap()\u001b[39m>\u001b[39;49m\u001b[39m0\u001b[39;49m) \u001b[39m&\u001b[39;49m (AST\u001b[39m.\u001b[39;49mleft_column(\u001b[39m\"\u001b[39;49m\u001b[39mleft_measure\u001b[39;49m\u001b[39m\"\u001b[39;49m) \u001b[39m<\u001b[39;49m AST\u001b[39m.\u001b[39;49mright_column(\u001b[39m\"\u001b[39;49m\u001b[39mright_measure\u001b[39;49m\u001b[39m\"\u001b[39;49m)\u001b[39m*\u001b[39;49m\u001b[39m10\u001b[39;49m))\u001b[39m.\u001b[39;49msum()\n\u001b[0;32m     <a href='vscode-notebook-cell:/l%3A/GIT/merge_with_deferred/noodle.ipynb#W4sZmlsZQ%3D%3D?line=50'>51</a>\u001b[0m         \u001b[39m.\u001b[39;49malias(\u001b[39m\"\u001b[39;49m\u001b[39msum of overlapping rows where left_measure < 10*right_measure\u001b[39;49m\u001b[39m\"\u001b[39;49m),\n\u001b[0;32m     <a href='vscode-notebook-cell:/l%3A/GIT/merge_with_deferred/noodle.ipynb#W4sZmlsZQ%3D%3D?line=51'>52</a>\u001b[0m     ]\n\u001b[0;32m     <a href='vscode-notebook-cell:/l%3A/GIT/merge_with_deferred/noodle.ipynb#W4sZmlsZQ%3D%3D?line=52'>53</a>\u001b[0m )\n\u001b[0;32m     <a href='vscode-notebook-cell:/l%3A/GIT/merge_with_deferred/noodle.ipynb#W4sZmlsZQ%3D%3D?line=53'>54</a>\u001b[0m result\n",
      "File \u001b[1;32ml:\\GIT\\merge_with_deferred\\merge\\_merge.py:21\u001b[0m, in \u001b[0;36mmerge_on_intervals\u001b[1;34m(left_data, right_data, join_left_on, from_to, add_columns)\u001b[0m\n\u001b[0;32m     18\u001b[0m from_column, to_column \u001b[39m=\u001b[39m from_to\n\u001b[0;32m     20\u001b[0m \u001b[39m# plan executions\u001b[39;00m\n\u001b[1;32m---> 21\u001b[0m add_columns_planned \u001b[39m=\u001b[39m [AST\u001b[39m.\u001b[39moptimize(myast) \u001b[39mfor\u001b[39;00m myast \u001b[39min\u001b[39;00m add_columns]\n\u001b[0;32m     23\u001b[0m \u001b[39m# determine the columns needed for the body of the algorithm\u001b[39;00m\n\u001b[0;32m     24\u001b[0m left_columns_needed, right_columns_needed \u001b[39m=\u001b[39m reduce(\n\u001b[0;32m     25\u001b[0m     \u001b[39mlambda\u001b[39;00m a,b: ({\u001b[39m*\u001b[39ma[\u001b[39m0\u001b[39m], \u001b[39m*\u001b[39mb[\u001b[39m0\u001b[39m]}, {\u001b[39m*\u001b[39ma[\u001b[39m1\u001b[39m],\u001b[39m*\u001b[39mb[\u001b[39m1\u001b[39m]}),\n\u001b[0;32m     26\u001b[0m     [AST\u001b[39m.\u001b[39mcolumns_required(myast) \u001b[39mfor\u001b[39;00m myast \u001b[39min\u001b[39;00m add_columns]\n\u001b[0;32m     27\u001b[0m )\n",
      "File \u001b[1;32ml:\\GIT\\merge_with_deferred\\merge\\_merge.py:21\u001b[0m, in \u001b[0;36m<listcomp>\u001b[1;34m(.0)\u001b[0m\n\u001b[0;32m     18\u001b[0m from_column, to_column \u001b[39m=\u001b[39m from_to\n\u001b[0;32m     20\u001b[0m \u001b[39m# plan executions\u001b[39;00m\n\u001b[1;32m---> 21\u001b[0m add_columns_planned \u001b[39m=\u001b[39m [AST\u001b[39m.\u001b[39;49moptimize(myast) \u001b[39mfor\u001b[39;00m myast \u001b[39min\u001b[39;00m add_columns]\n\u001b[0;32m     23\u001b[0m \u001b[39m# determine the columns needed for the body of the algorithm\u001b[39;00m\n\u001b[0;32m     24\u001b[0m left_columns_needed, right_columns_needed \u001b[39m=\u001b[39m reduce(\n\u001b[0;32m     25\u001b[0m     \u001b[39mlambda\u001b[39;00m a,b: ({\u001b[39m*\u001b[39ma[\u001b[39m0\u001b[39m], \u001b[39m*\u001b[39mb[\u001b[39m0\u001b[39m]}, {\u001b[39m*\u001b[39ma[\u001b[39m1\u001b[39m],\u001b[39m*\u001b[39mb[\u001b[39m1\u001b[39m]}),\n\u001b[0;32m     26\u001b[0m     [AST\u001b[39m.\u001b[39mcolumns_required(myast) \u001b[39mfor\u001b[39;00m myast \u001b[39min\u001b[39;00m add_columns]\n\u001b[0;32m     27\u001b[0m )\n",
      "File \u001b[1;32ml:\\GIT\\merge_with_deferred\\merge\\_ast.py:582\u001b[0m, in \u001b[0;36mAST.optimize\u001b[1;34m(myast)\u001b[0m\n\u001b[0;32m    580\u001b[0m     \u001b[39mif\u001b[39;00m \u001b[39mnot\u001b[39;00m \u001b[39misinstance\u001b[39m(subtree_parent_ast, AST):\n\u001b[0;32m    581\u001b[0m         \u001b[39mraise\u001b[39;00m \u001b[39mException\u001b[39;00m(\u001b[39m\"\u001b[39m\u001b[39mTried to replace subtree with reference during optimization but failed because the subtree parent did not have children.\u001b[39m\u001b[39m\"\u001b[39m)\n\u001b[1;32m--> 582\u001b[0m     subtree_parent_ast\u001b[39m.\u001b[39;49mchildren[path_head] \u001b[39m=\u001b[39m refer\n\u001b[0;32m    584\u001b[0m \u001b[39m# confirm dependency order by swapping declarations that depend on each other\u001b[39;00m\n\u001b[0;32m    585\u001b[0m swap_count \u001b[39m=\u001b[39m \u001b[39m0\u001b[39m\n",
      "\u001b[1;31mTypeError\u001b[0m: 'tuple' object does not support item assignment"
     ]
    }
   ],
   "source": [
    "result = merge_on_intervals(\n",
    "    left_data  = left,\n",
    "    right_data = right,\n",
    "    join_left_on=[\"road\",\"cwy\"],\n",
    "    from_to=(\"slk_from\",\"slk_to\"),\n",
    "    add_columns=[\n",
    "        # SUM\n",
    "        AST.right_column(\"right_measure\").filter(AST.length_of_overlap()>0).sum()\n",
    "        .alias(\"sum\"),\n",
    "\n",
    "        # SUM - OVERLAPPING PORTION\n",
    "        (AST.right_column(\"right_measure\")/AST.length_of_right()*AST.length_of_overlap()).filter(AST.length_of_overlap()>0).sum()\n",
    "        .alias(\"sum - overlapping portion\"),\n",
    "\n",
    "        # LENGTH WEIGHTED AVERAGE\n",
    "        (\n",
    "            (AST.right_column(\"right_measure\").filter(AST.length_of_overlap()>0) * AST.length_of_overlap()).sum() \n",
    "            / AST.length_of_overlap().filter(AST.length_of_overlap()>0).sum()\n",
    "        )\n",
    "        .alias(\"length weighted average\"),\n",
    "        \n",
    "        # LONGEST OVERLAPPING SEGMENT\n",
    "        AST.right_column(\"right_measure\")\n",
    "        .at_index(\n",
    "            AST.length_of_overlap()\n",
    "            .filter(AST.length_of_overlap()>0)\n",
    "            .index_of_max()\n",
    "        )\n",
    "        .alias(\"longest overlapping segment\"),\n",
    "        \n",
    "        # LONGEST VALUE\n",
    "        AST.length_of_overlap().filter(AST.length_of_overlap()>0).groupby(AST.right_column(\"right_measure\")).sum().index_of_max()\n",
    "        .alias(\"longest value\"),\n",
    "\n",
    "        # LENGTH WEIGHTED 75th PERCENTILE\n",
    "        # psudocode\n",
    "        #AST.np_interp(\n",
    "        #    0.75,\n",
    "        #    ((xcoords:=AST.length_of_overlap().sort_values(AST.right_column(\"right_measure\")).rolling(2).mean().fillna(0).cumsum()) / xcoords.iloc[-1]),\n",
    "        #    AST.right_column(\"right_measure\").sort_values(AST.right_column(\"right_measure\"))\n",
    "        #),\n",
    "        \n",
    "        # NEAREST VALUE,\n",
    "        # (or if there are overlapping, some random overlapping value)\n",
    "        AST.length_of_overlap().groupby(AST.right_column(\"right_measure\")).sum().index_of_max()\n",
    "        .alias(\"nearest\"),\n",
    "\n",
    "        # FANCY SPICY SPECIAL QUERY :O\n",
    "        # no idea why anyone would need this, but now it is possible.\n",
    "        AST.right_column(\"right_measure\").filter((AST.length_of_overlap()>0) & (AST.left_column(\"left_measure\") < AST.right_column(\"right_measure\")*10)).sum()\n",
    "        .alias(\"sum of overlapping rows where left_measure < 10*right_measure\"),\n",
    "    ]\n",
    ")\n",
    "result"
   ]
  },
  {
   "cell_type": "code",
   "execution_count": 5,
   "metadata": {},
   "outputs": [
    {
     "ename": "TypeError",
     "evalue": "'tuple' object does not support item assignment",
     "output_type": "error",
     "traceback": [
      "\u001b[1;31m---------------------------------------------------------------------------\u001b[0m",
      "\u001b[1;31mTypeError\u001b[0m                                 Traceback (most recent call last)",
      "\u001b[1;32ml:\\GIT\\merge_with_deferred\\noodle.ipynb Cell 6\u001b[0m in \u001b[0;36m<cell line: 1>\u001b[1;34m()\u001b[0m\n\u001b[1;32m----> <a href='vscode-notebook-cell:/l%3A/GIT/merge_with_deferred/noodle.ipynb#W5sZmlsZQ%3D%3D?line=0'>1</a>\u001b[0m AST\u001b[39m.\u001b[39;49moptimize((\n\u001b[0;32m      <a href='vscode-notebook-cell:/l%3A/GIT/merge_with_deferred/noodle.ipynb#W5sZmlsZQ%3D%3D?line=1'>2</a>\u001b[0m     (\n\u001b[0;32m      <a href='vscode-notebook-cell:/l%3A/GIT/merge_with_deferred/noodle.ipynb#W5sZmlsZQ%3D%3D?line=2'>3</a>\u001b[0m           AST\u001b[39m.\u001b[39;49mright_column(\u001b[39m\"\u001b[39;49m\u001b[39mright_measure\u001b[39;49m\u001b[39m\"\u001b[39;49m)\n\u001b[0;32m      <a href='vscode-notebook-cell:/l%3A/GIT/merge_with_deferred/noodle.ipynb#W5sZmlsZQ%3D%3D?line=3'>4</a>\u001b[0m         \u001b[39m*\u001b[39;49m AST\u001b[39m.\u001b[39;49mfraction_of_right()\n\u001b[0;32m      <a href='vscode-notebook-cell:/l%3A/GIT/merge_with_deferred/noodle.ipynb#W5sZmlsZQ%3D%3D?line=4'>5</a>\u001b[0m     )\n\u001b[0;32m      <a href='vscode-notebook-cell:/l%3A/GIT/merge_with_deferred/noodle.ipynb#W5sZmlsZQ%3D%3D?line=5'>6</a>\u001b[0m     \u001b[39m.\u001b[39;49mfilter(AST\u001b[39m.\u001b[39;49mlength_of_overlap()\u001b[39m>\u001b[39;49m\u001b[39m0\u001b[39;49m)  \n\u001b[0;32m      <a href='vscode-notebook-cell:/l%3A/GIT/merge_with_deferred/noodle.ipynb#W5sZmlsZQ%3D%3D?line=6'>7</a>\u001b[0m )\u001b[39m.\u001b[39;49msum() \n\u001b[0;32m      <a href='vscode-notebook-cell:/l%3A/GIT/merge_with_deferred/noodle.ipynb#W5sZmlsZQ%3D%3D?line=7'>8</a>\u001b[0m \u001b[39m/\u001b[39;49m AST\u001b[39m.\u001b[39;49mlength_of_overlap()\u001b[39m.\u001b[39;49mfilter(AST\u001b[39m.\u001b[39;49mlength_of_overlap()\u001b[39m>\u001b[39;49m\u001b[39m0\u001b[39;49m)\u001b[39m.\u001b[39;49msum()\n\u001b[0;32m      <a href='vscode-notebook-cell:/l%3A/GIT/merge_with_deferred/noodle.ipynb#W5sZmlsZQ%3D%3D?line=8'>9</a>\u001b[0m )\u001b[39m.\u001b[39mto_string_print()\n",
      "File \u001b[1;32ml:\\GIT\\merge_with_deferred\\merge\\_ast.py:582\u001b[0m, in \u001b[0;36mAST.optimize\u001b[1;34m(myast)\u001b[0m\n\u001b[0;32m    580\u001b[0m     \u001b[39mif\u001b[39;00m \u001b[39mnot\u001b[39;00m \u001b[39misinstance\u001b[39m(subtree_parent_ast, AST):\n\u001b[0;32m    581\u001b[0m         \u001b[39mraise\u001b[39;00m \u001b[39mException\u001b[39;00m(\u001b[39m\"\u001b[39m\u001b[39mTried to replace subtree with reference during optimization but failed because the subtree parent did not have children.\u001b[39m\u001b[39m\"\u001b[39m)\n\u001b[1;32m--> 582\u001b[0m     subtree_parent_ast\u001b[39m.\u001b[39;49mchildren[path_head] \u001b[39m=\u001b[39m refer\n\u001b[0;32m    584\u001b[0m \u001b[39m# confirm dependency order by swapping declarations that depend on each other\u001b[39;00m\n\u001b[0;32m    585\u001b[0m swap_count \u001b[39m=\u001b[39m \u001b[39m0\u001b[39m\n",
      "\u001b[1;31mTypeError\u001b[0m: 'tuple' object does not support item assignment"
     ]
    }
   ],
   "source": [
    "AST.optimize((\n",
    "    (\n",
    "          AST.right_column(\"right_measure\")\n",
    "        * AST.fraction_of_right()\n",
    "    )\n",
    "    .filter(AST.length_of_overlap()>0)  \n",
    ").sum() \n",
    "/ AST.length_of_overlap().filter(AST.length_of_overlap()>0).sum()\n",
    ").to_string_print()"
   ]
  },
  {
   "cell_type": "code",
   "execution_count": null,
   "metadata": {},
   "outputs": [
    {
     "name": "stdout",
     "output_type": "stream",
     "text": [
      "\n",
      "⟨execute⟩\n",
      " ┠╴⟨declare⟩\n",
      " ┃  ┠╴\"subtree_0\"\n",
      " ┃  ┖╴⟨length_of_overlap⟩\n",
      " ┖╴⟨alias⟩\n",
      "    ┠╴⟨at_index⟩\n",
      "    ┃  ┠╴⟨right_column⟩\n",
      "    ┃  ┃  ┖╴\"right_measure\"\n",
      "    ┃  ┖╴⟨index_of_max⟩\n",
      "    ┃     ┖╴⟨filter⟩\n",
      "    ┃        ┠╴⟨refer⟩\n",
      "    ┃        ┃  ┖╴\"subtree_0\"\n",
      "    ┃        ┖╴⟨>⟩\n",
      "    ┃           ┠╴⟨refer⟩\n",
      "    ┃           ┃  ┖╴\"subtree_0\"\n",
      "    ┃           ┖╴0\n",
      "    ┖╴\"longest overlapping segment\"\n"
     ]
    }
   ],
   "source": [
    "AST.optimize(\n",
    "    AST.right_column(\"right_measure\").at_index(\n",
    "        AST.length_of_overlap()\n",
    "        .filter(AST.length_of_overlap()>0)\n",
    "        .index_of_max()\n",
    "    )\n",
    "    .alias(\"longest overlapping segment\")\n",
    ").to_string_print()"
   ]
  },
  {
   "cell_type": "code",
   "execution_count": null,
   "metadata": {},
   "outputs": [
    {
     "data": {
      "text/html": [
       "<div>\n",
       "<style scoped>\n",
       "    .dataframe tbody tr th:only-of-type {\n",
       "        vertical-align: middle;\n",
       "    }\n",
       "\n",
       "    .dataframe tbody tr th {\n",
       "        vertical-align: top;\n",
       "    }\n",
       "\n",
       "    .dataframe thead th {\n",
       "        text-align: right;\n",
       "    }\n",
       "</style>\n",
       "<table border=\"1\" class=\"dataframe\">\n",
       "  <thead>\n",
       "    <tr style=\"text-align: right;\">\n",
       "      <th></th>\n",
       "      <th>0</th>\n",
       "      <th>1</th>\n",
       "      <th>2</th>\n",
       "      <th>3</th>\n",
       "      <th>4</th>\n",
       "      <th>5</th>\n",
       "      <th>6</th>\n",
       "      <th>7</th>\n",
       "      <th>8</th>\n",
       "      <th>9</th>\n",
       "      <th>10</th>\n",
       "      <th>11</th>\n",
       "    </tr>\n",
       "  </thead>\n",
       "  <tbody>\n",
       "    <tr>\n",
       "      <th>0</th>\n",
       "      <td>50</td>\n",
       "      <td>-40</td>\n",
       "      <td>-60</td>\n",
       "      <td>-80</td>\n",
       "      <td>-120</td>\n",
       "      <td>-140</td>\n",
       "      <td>-160</td>\n",
       "      <td>-180</td>\n",
       "      <td>-200</td>\n",
       "      <td>-160</td>\n",
       "      <td>-180</td>\n",
       "      <td>-200</td>\n",
       "    </tr>\n",
       "    <tr>\n",
       "      <th>1</th>\n",
       "      <td>40</td>\n",
       "      <td>20</td>\n",
       "      <td>20</td>\n",
       "      <td>20</td>\n",
       "      <td>-20</td>\n",
       "      <td>-40</td>\n",
       "      <td>-60</td>\n",
       "      <td>-80</td>\n",
       "      <td>-100</td>\n",
       "      <td>-60</td>\n",
       "      <td>-80</td>\n",
       "      <td>-100</td>\n",
       "    </tr>\n",
       "    <tr>\n",
       "      <th>2</th>\n",
       "      <td>-60</td>\n",
       "      <td>-40</td>\n",
       "      <td>-20</td>\n",
       "      <td>20</td>\n",
       "      <td>20</td>\n",
       "      <td>20</td>\n",
       "      <td>20</td>\n",
       "      <td>20</td>\n",
       "      <td>0</td>\n",
       "      <td>20</td>\n",
       "      <td>20</td>\n",
       "      <td>0</td>\n",
       "    </tr>\n",
       "    <tr>\n",
       "      <th>3</th>\n",
       "      <td>-160</td>\n",
       "      <td>-140</td>\n",
       "      <td>-120</td>\n",
       "      <td>-80</td>\n",
       "      <td>-60</td>\n",
       "      <td>-40</td>\n",
       "      <td>-20</td>\n",
       "      <td>0</td>\n",
       "      <td>20</td>\n",
       "      <td>-20</td>\n",
       "      <td>0</td>\n",
       "      <td>20</td>\n",
       "    </tr>\n",
       "    <tr>\n",
       "      <th>4</th>\n",
       "      <td>-360</td>\n",
       "      <td>-340</td>\n",
       "      <td>-320</td>\n",
       "      <td>-280</td>\n",
       "      <td>-260</td>\n",
       "      <td>-240</td>\n",
       "      <td>-220</td>\n",
       "      <td>-200</td>\n",
       "      <td>-180</td>\n",
       "      <td>-220</td>\n",
       "      <td>-200</td>\n",
       "      <td>-180</td>\n",
       "    </tr>\n",
       "  </tbody>\n",
       "</table>\n",
       "</div>"
      ],
      "text/plain": [
       "    0    1    2    3    4    5    6    7    8    9    10   11\n",
       "0   50  -40  -60  -80 -120 -140 -160 -180 -200 -160 -180 -200\n",
       "1   40   20   20   20  -20  -40  -60  -80 -100  -60  -80 -100\n",
       "2  -60  -40  -20   20   20   20   20   20    0   20   20    0\n",
       "3 -160 -140 -120  -80  -60  -40  -20    0   20  -20    0   20\n",
       "4 -360 -340 -320 -280 -260 -240 -220 -200 -180 -220 -200 -180"
      ]
     },
     "execution_count": 9,
     "metadata": {},
     "output_type": "execute_result"
    }
   ],
   "source": [
    "signed_overlap = pd.DataFrame(overlap(\n",
    "    left[\"slk_from\"].to_numpy(),\n",
    "    left[\"slk_to\"].to_numpy(),\n",
    "    right[\"slk_from\"].to_numpy(),\n",
    "    right[\"slk_to\"].to_numpy()\n",
    ").transpose())\n",
    "signed_overlap"
   ]
  },
  {
   "cell_type": "code",
   "execution_count": null,
   "metadata": {},
   "outputs": [
    {
     "data": {
      "text/plain": [
       "True"
      ]
     },
     "execution_count": 10,
     "metadata": {},
     "output_type": "execute_result"
    }
   ],
   "source": [
    "AST.left_column(\"A\").compare_equal(AST.left_column(\"A\"),AST.left_column(\"A\"))"
   ]
  },
  {
   "cell_type": "code",
   "execution_count": 6,
   "metadata": {},
   "outputs": [
    {
     "data": {
      "text/plain": [
       "True"
      ]
     },
     "execution_count": 6,
     "metadata": {},
     "output_type": "execute_result"
    }
   ],
   "source": [
    "AST.compare_equal(AST.left_column(\"30\")*5,AST.left_column(\"30\")*5)"
   ]
  },
  {
   "cell_type": "code",
   "execution_count": 16,
   "metadata": {},
   "outputs": [
    {
     "name": "stdout",
     "output_type": "stream",
     "text": [
      "\n",
      "⟨<⟩\n",
      " ┠╴⟨<⟩\n",
      " ┃  ┠╴⟨left_column⟩\n",
      " ┃  ┃  ┖╴\"30\"\n",
      " ┃  ┖╴⟨left_column⟩\n",
      " ┃     ┖╴\"30\"\n",
      " ┖╴⟨left_column⟩\n",
      "    ┖╴\"30\"\n"
     ]
    }
   ],
   "source": [
    "print(((AST.left_column(\"30\") < AST.left_column(\"30\")) < AST.left_column(\"30\")).to_string())"
   ]
  },
  {
   "cell_type": "code",
   "execution_count": 17,
   "metadata": {},
   "outputs": [
    {
     "name": "stdout",
     "output_type": "stream",
     "text": [
      "\n",
      "⟨<⟩\n",
      " ┠╴⟨<⟩\n",
      " ┃  ┠╴⟨left_column⟩\n",
      " ┃  ┃  ┖╴\"30\"\n",
      " ┃  ┖╴⟨left_column⟩\n",
      " ┃     ┖╴\"30\"\n",
      " ┖╴⟨left_column⟩\n",
      "    ┖╴\"30\"\n"
     ]
    },
    {
     "data": {
      "text/plain": [
       "4"
      ]
     },
     "execution_count": 17,
     "metadata": {},
     "output_type": "execute_result"
    }
   ],
   "source": [
    "((AST.left_column(\"30\") < AST.left_column(\"30\")) < AST.left_column(\"30\")).to_string_print()\n",
    "AST.max_depth(\n",
    "    (AST.left_column(\"30\") < AST.left_column(\"30\")) < AST.left_column(\"30\")\n",
    ")"
   ]
  },
  {
   "cell_type": "code",
   "execution_count": 8,
   "metadata": {},
   "outputs": [
    {
     "name": "stdout",
     "output_type": "stream",
     "text": [
      "\n",
      "⟨-⟩\n",
      " ┠╴⟨+⟩\n",
      " ┃  ┠╴⟨*⟩\n",
      " ┃  ┃  ┠╴⟨+⟩\n",
      " ┃  ┃  ┃  ┠╴⟨left_column⟩\n",
      " ┃  ┃  ┃  ┃  ┖╴\"A\"\n",
      " ┃  ┃  ┃  ┖╴5\n",
      " ┃  ┃  ┖╴2\n",
      " ┃  ┖╴⟨*⟩\n",
      " ┃     ┠╴⟨*⟩\n",
      " ┃     ┃  ┠╴⟨+⟩\n",
      " ┃     ┃  ┃  ┠╴⟨left_column⟩\n",
      " ┃     ┃  ┃  ┃  ┖╴\"A\"\n",
      " ┃     ┃  ┃  ┖╴5\n",
      " ┃     ┃  ┖╴2\n",
      " ┃     ┖╴3\n",
      " ┖╴⟨*⟩\n",
      "    ┠╴⟨+⟩\n",
      "    ┃  ┠╴⟨left_column⟩\n",
      "    ┃  ┃  ┖╴\"A\"\n",
      "    ┃  ┖╴5\n",
      "    ┖╴2\n"
     ]
    }
   ],
   "source": [
    "tree = (AST.left_column(\"A\")+5)*2 + (AST.left_column(\"A\")+5)*2*3 - (AST.left_column(\"A\")+5)*2\n",
    "tree.to_string_print()"
   ]
  },
  {
   "cell_type": "code",
   "execution_count": 5,
   "metadata": {},
   "outputs": [
    {
     "name": "stdout",
     "output_type": "stream",
     "text": [
      "swap\n",
      "swap\n",
      "swap\n",
      "swap\n",
      "swap\n",
      "\n",
      "⟨execute⟩\n",
      " ┠╴⟨declare⟩\n",
      " ┃  ┠╴\"subtree_2\"\n",
      " ┃  ┖╴⟨length_of_overlap⟩\n",
      " ┠╴⟨declare⟩\n",
      " ┃  ┠╴\"subtree_3\"\n",
      " ┃  ┖╴⟨right_column⟩\n",
      " ┃     ┖╴\"right_measure\"\n",
      " ┠╴⟨declare⟩\n",
      " ┃  ┠╴\"subtree_1\"\n",
      " ┃  ┖╴⟨filter⟩\n",
      " ┃     ┠╴⟨refer⟩\n",
      " ┃     ┃  ┖╴\"subtree_2\"\n",
      " ┃     ┖╴⟨refer⟩\n",
      " ┃        ┖╴\"subtree_3\"\n",
      " ┠╴⟨declare⟩\n",
      " ┃  ┠╴\"subtree_0\"\n",
      " ┃  ┖╴⟨sum⟩\n",
      " ┃     ┖╴⟨refer⟩\n",
      " ┃        ┖╴\"subtree_1\"\n",
      " ┖╴⟨/⟩\n",
      "    ┠╴⟨refer⟩\n",
      "    ┃  ┖╴\"subtree_0\"\n",
      "    ┖╴⟨slice_integer⟩\n",
      "       ┠╴⟨refer⟩\n",
      "       ┃  ┖╴\"subtree_0\"\n",
      "       ┖╴-1\n"
     ]
    }
   ],
   "source": [
    "AST.optimize((xcoords:=AST.length_of_overlap().filter(AST.right_column(\"right_measure\")).sum()) / xcoords.iloc[-1]).to_string_print()"
   ]
  },
  {
   "cell_type": "code",
   "execution_count": null,
   "metadata": {},
   "outputs": [],
   "source": []
  }
 ],
 "metadata": {
  "kernelspec": {
   "display_name": "base",
   "language": "python",
   "name": "python3"
  },
  "language_info": {
   "codemirror_mode": {
    "name": "ipython",
    "version": 3
   },
   "file_extension": ".py",
   "mimetype": "text/x-python",
   "name": "python",
   "nbconvert_exporter": "python",
   "pygments_lexer": "ipython3",
   "version": "3.9.1"
  },
  "orig_nbformat": 4,
  "vscode": {
   "interpreter": {
    "hash": "7f736e491911e305ea66d73a24d33e93a2eb07db53b4ab2f1f49c2ede39c6110"
   }
  }
 },
 "nbformat": 4,
 "nbformat_minor": 2
}
